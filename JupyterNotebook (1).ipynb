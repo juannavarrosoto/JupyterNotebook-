{
 "cells": [
  {
   "cell_type": "markdown",
   "id": "c893469a-c89a-4d03-839c-47b30e64587a",
   "metadata": {},
   "source": [
    "<H1>My Jupyter Notebook on IBM Watson Studio<H1>"
   ]
  },
  {
   "cell_type": "markdown",
   "id": "f0bdfe35-103f-408c-a604-1a67c3ba60e8",
   "metadata": {},
   "source": [
    "**Juan Sebastian Navarro** \n",
    "    \n",
    "    Project Engineer \n",
    "\n",
    "\n"
   ]
  },
  {
   "cell_type": "markdown",
   "id": "57dc49cd-5973-4df0-b1e3-af9662268bf2",
   "metadata": {},
   "source": [
    "*I am interested in data science because is the best way to optimize any proccess at any level.*\n",
    "\n",
    "*I would like to star my career as data scientist because data are the most valuable thing in any company in order to known and improve the results.*"
   ]
  },
  {
   "cell_type": "markdown",
   "id": "2f46c29c-f4e4-48a0-b6e4-599c359a62bb",
   "metadata": {},
   "source": [
    "<H3>In cell 5 we are going to find the result after multiply 5 and 6<H3>\n",
    "    "
   ]
  },
  {
   "cell_type": "code",
   "execution_count": 6,
   "id": "9e2a48c9-c4b9-497a-b081-db275da33ee8",
   "metadata": {},
   "outputs": [
    {
     "data": {
      "text/plain": [
       "30"
      ]
     },
     "execution_count": 6,
     "metadata": {},
     "output_type": "execute_result"
    }
   ],
   "source": [
    "5*6"
   ]
  },
  {
   "cell_type": "markdown",
   "id": "0359da15-94b2-4deb-accc-6b0f73379cf5",
   "metadata": {},
   "source": [
    "<hr>\n",
    "<ol>\n",
    "    <li>Data science\n",
    "    <li>Python\n",
    "    <li>Pandas\n",
    "    <li>Jupyter \n",
    "    </ol>\n",
    "    \n",
    " <a> \"href=https://www.datacamp.com/tutorial/markdown-in-jupyter-notebook#internal-and-external-link\"</a>\n",
    " \n"
   ]
  },
  {
   "cell_type": "code",
   "execution_count": null,
   "id": "8ff2e3e7-cffc-4e54-af91-e65f4210b910",
   "metadata": {},
   "outputs": [],
   "source": []
  }
 ],
 "metadata": {
  "kernelspec": {
   "display_name": "Python",
   "language": "python",
   "name": "conda-env-python-py"
  },
  "language_info": {
   "codemirror_mode": {
    "name": "ipython",
    "version": 3
   },
   "file_extension": ".py",
   "mimetype": "text/x-python",
   "name": "python",
   "nbconvert_exporter": "python",
   "pygments_lexer": "ipython3",
   "version": "3.7.12"
  }
 },
 "nbformat": 4,
 "nbformat_minor": 5
}
